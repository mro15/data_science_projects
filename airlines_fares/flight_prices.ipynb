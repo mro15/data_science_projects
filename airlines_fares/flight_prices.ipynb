{
 "cells": [
  {
   "cell_type": "code",
   "execution_count": null,
   "id": "9747d115-26b8-4c0e-b1a9-f48a3c2f011d",
   "metadata": {},
   "outputs": [],
   "source": [
    "import matplotlib as plt\n",
    "import numpy as np\n",
    "import pandas as pd\n",
    "import seaborn as sns"
   ]
  },
  {
   "cell_type": "code",
   "execution_count": null,
   "id": "26e53657-dcbb-47cf-90b1-4b8de2c68678",
   "metadata": {},
   "outputs": [],
   "source": [
    "train_data_path = 'data/Data_Train.xlsx'\n",
    "data_df = pd.read_excel(train_data_path)"
   ]
  },
  {
   "cell_type": "code",
   "execution_count": null,
   "id": "8d3d6050-21b0-4728-be35-cda2a506deb8",
   "metadata": {},
   "outputs": [],
   "source": [
    "data_df.info()"
   ]
  },
  {
   "cell_type": "markdown",
   "id": "a59c60ce-3665-464c-ba18-745ccd0461cd",
   "metadata": {},
   "source": [
    "# Data cleaning\n",
    "Deal with missing values"
   ]
  },
  {
   "cell_type": "code",
   "execution_count": null,
   "id": "9ac2173d-0a23-4783-b004-df8ec755e367",
   "metadata": {},
   "outputs": [],
   "source": [
    "# remove missing values\n",
    "data_df.dropna(inplace=True)"
   ]
  },
  {
   "cell_type": "code",
   "execution_count": null,
   "id": "bf41b713-9c44-4ae9-b279-009e1bf535d4",
   "metadata": {},
   "outputs": [],
   "source": [
    "data_df_copy = data_df.copy()"
   ]
  },
  {
   "cell_type": "code",
   "execution_count": null,
   "id": "fd50221f-7259-4b3a-92e0-2de05a541112",
   "metadata": {},
   "outputs": [],
   "source": [
    "data_df.head(3)"
   ]
  },
  {
   "cell_type": "code",
   "execution_count": null,
   "id": "edb66c62-2a25-43f5-831a-1de8cc9fb376",
   "metadata": {},
   "outputs": [],
   "source": []
  },
  {
   "cell_type": "code",
   "execution_count": null,
   "id": "fcbf1662-0233-4896-b0c4-59b9b54cb72f",
   "metadata": {},
   "outputs": [],
   "source": []
  },
  {
   "cell_type": "code",
   "execution_count": null,
   "id": "cd1d9432-4062-49c6-b52e-144cb37580a1",
   "metadata": {},
   "outputs": [],
   "source": []
  },
  {
   "cell_type": "code",
   "execution_count": null,
   "id": "6a82e315-5a75-43bc-8f0e-2da6aa5bcba7",
   "metadata": {},
   "outputs": [],
   "source": []
  }
 ],
 "metadata": {
  "kernelspec": {
   "display_name": "Python 3 (ipykernel)",
   "language": "python",
   "name": "python3"
  },
  "language_info": {
   "codemirror_mode": {
    "name": "ipython",
    "version": 3
   },
   "file_extension": ".py",
   "mimetype": "text/x-python",
   "name": "python",
   "nbconvert_exporter": "python",
   "pygments_lexer": "ipython3",
   "version": "3.10.9"
  }
 },
 "nbformat": 4,
 "nbformat_minor": 5
}
