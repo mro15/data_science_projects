{
 "cells": [
  {
   "cell_type": "code",
   "execution_count": null,
   "id": "9747d115-26b8-4c0e-b1a9-f48a3c2f011d",
   "metadata": {},
   "outputs": [],
   "source": [
    "import matplotlib as plt\n",
    "import numpy as np\n",
    "import pandas as pd\n",
    "import seaborn as sns"
   ]
  },
  {
   "cell_type": "code",
   "execution_count": null,
   "id": "26e53657-dcbb-47cf-90b1-4b8de2c68678",
   "metadata": {},
   "outputs": [],
   "source": [
    "train_data_path = 'data/Data_Train.xlsx'\n",
    "data_df = pd.read_excel(train_data_path)"
   ]
  },
  {
   "cell_type": "code",
   "execution_count": null,
   "id": "8d3d6050-21b0-4728-be35-cda2a506deb8",
   "metadata": {},
   "outputs": [],
   "source": [
    "data_df.info()"
   ]
  },
  {
   "cell_type": "markdown",
   "id": "a59c60ce-3665-464c-ba18-745ccd0461cd",
   "metadata": {},
   "source": [
    "# Data cleaning\n",
    "Deal with missing values"
   ]
  },
  {
   "cell_type": "code",
   "execution_count": null,
   "id": "9ac2173d-0a23-4783-b004-df8ec755e367",
   "metadata": {},
   "outputs": [],
   "source": [
    "# remove missing values\n",
    "data_df.dropna(inplace=True)"
   ]
  },
  {
   "cell_type": "code",
   "execution_count": null,
   "id": "bf41b713-9c44-4ae9-b279-009e1bf535d4",
   "metadata": {},
   "outputs": [],
   "source": [
    "data_df_copy = data_df.copy()"
   ]
  },
  {
   "cell_type": "code",
   "execution_count": null,
   "id": "fd50221f-7259-4b3a-92e0-2de05a541112",
   "metadata": {},
   "outputs": [],
   "source": [
    "data_df.head(3)"
   ]
  },
  {
   "cell_type": "markdown",
   "id": "207c0689-e52c-41c3-8f29-2b6e8e24380c",
   "metadata": {},
   "source": [
    "## Data preprocessing & extract derived features"
   ]
  },
  {
   "cell_type": "code",
   "execution_count": null,
   "id": "fcbf1662-0233-4896-b0c4-59b9b54cb72f",
   "metadata": {},
   "outputs": [],
   "source": [
    "# change columns to DateTime\n",
    "def change_to_datetime(col):\n",
    "    data_df[col] = pd.to_datetime(data_df[col])"
   ]
  },
  {
   "cell_type": "code",
   "execution_count": null,
   "id": "b4b77aad-9c38-460f-86f7-5093ba04e728",
   "metadata": {},
   "outputs": [],
   "source": [
    "columns_to_change = ['Date_of_Journey', 'Dep_Time', 'Arrival_Time']"
   ]
  },
  {
   "cell_type": "code",
   "execution_count": null,
   "id": "62b8eae4-1669-45eb-8c22-2a92348c614d",
   "metadata": {},
   "outputs": [],
   "source": [
    "for c in columns_to_change:\n",
    "    change_to_datetime(c)"
   ]
  },
  {
   "cell_type": "code",
   "execution_count": null,
   "id": "f80942d2-ba25-456c-9785-e624bc65ed68",
   "metadata": {},
   "outputs": [],
   "source": [
    "data_df['journey_day'] = data_df['Date_of_Journey'].dt.day\n",
    "data_df['journey_month'] = data_df['Date_of_Journey'].dt.month\n",
    "data_df['journey_year'] = data_df['Date_of_Journey'].dt.year"
   ]
  },
  {
   "cell_type": "code",
   "execution_count": null,
   "id": "53e641dd-1b64-486c-b5aa-eceaea881ad2",
   "metadata": {},
   "outputs": [],
   "source": [
    "# extract hour and minute\n",
    "def extract_hour_minute(df, col):\n",
    "    df[f'{col}_hour'] = df[col].dt.hour\n",
    "    df[f'{col}_minute'] = df[col].dt.minute\n",
    "    return df.head(3)"
   ]
  },
  {
   "cell_type": "code",
   "execution_count": null,
   "id": "26ee4e71-a276-4977-a042-07424981332b",
   "metadata": {},
   "outputs": [],
   "source": [
    "cols_to_extract = ['Dep_Time', 'Arrival_Time']\n",
    "for c in cols_to_extract:\n",
    "    extract_hour_minute(data_df, c)\n",
    "data_df.drop(cols_to_extract, axis=1, inplace=True)"
   ]
  },
  {
   "cell_type": "markdown",
   "id": "1f8c4574-c2ed-4601-a606-4d477fb1dbaf",
   "metadata": {},
   "source": [
    "# Data Analysis"
   ]
  },
  {
   "cell_type": "code",
   "execution_count": null,
   "id": "3ae84ca0-c8b0-4e36-8643-ce6cd34c1186",
   "metadata": {},
   "outputs": [],
   "source": [
    "def flight_departure_time(hour):\n",
    "    if (hour>4) and (hour<=8):\n",
    "        return 'Early Morning'\n",
    "    elif (hour>8) and (hour<=12):\n",
    "        return 'Morning'\n",
    "    elif (hour>12) and (hour<=16):\n",
    "        return 'Noon'\n",
    "    elif (hour>16) and (hour<=20):\n",
    "        return 'Evening'\n",
    "    elif (hour>20) and (hour<=24):\n",
    "        return 'Night'\n",
    "    else:\n",
    "        return 'Late Night'"
   ]
  },
  {
   "cell_type": "code",
   "execution_count": null,
   "id": "c7116e8e-d010-4984-bd61-03504198a7df",
   "metadata": {},
   "outputs": [],
   "source": [
    "import plotly\n",
    "import cufflinks as cf\n",
    "from cufflinks.offline import go_offline\n",
    "from plotly.offline import plot, iplot, init_notebook_mode, download_plotlyjs\n",
    "init_notebook_mode(connected=True)\n",
    "cf.go_offline()"
   ]
  },
  {
   "cell_type": "code",
   "execution_count": null,
   "id": "04c1a5df-a664-4ee2-b506-e47687f72a0d",
   "metadata": {},
   "outputs": [],
   "source": [
    "data_df['Dep_Time_hour'].apply(flight_departure_time).value_counts().plot(kind='bar')"
   ]
  },
  {
   "cell_type": "code",
   "execution_count": null,
   "id": "93e9c476-2861-4afe-a20e-18223ebbcc97",
   "metadata": {},
   "outputs": [],
   "source": [
    "# transforming duration\n",
    "def preprocess_duration(duration):\n",
    "    if 'h' not in duration:\n",
    "        duration = f'0h {duration}'\n",
    "    elif 'm' not in duration:\n",
    "        duration = f'{duration} 0m'\n",
    "    return duration"
   ]
  },
  {
   "cell_type": "code",
   "execution_count": null,
   "id": "0be5729d-086f-4785-937f-cbc2d4e9a11b",
   "metadata": {},
   "outputs": [],
   "source": [
    "data_df['Duration'] = data_df['Duration'].apply(preprocess_duration)"
   ]
  },
  {
   "cell_type": "code",
   "execution_count": null,
   "id": "f2858706-cf8a-49a2-b45b-04f68c638452",
   "metadata": {},
   "outputs": [],
   "source": [
    "data_df['Duration_hours'] = data_df['Duration'].apply(lambda x : int(x.split(' ')[0][0:-1]))\n",
    "data_df['Duration_mins'] = data_df['Duration'].apply(lambda x : int(x.split(' ')[1][0:-1]))"
   ]
  },
  {
   "cell_type": "code",
   "execution_count": null,
   "id": "7cc80b44-914a-44a1-ad3b-fe8be7ed3073",
   "metadata": {},
   "outputs": [],
   "source": [
    "def total_duration(hour, min):\n",
    "    return (hour*60)+min\n",
    "\n",
    "data_df['Duration_total_mins'] = data_df.apply(\n",
    "    lambda x: total_duration(\n",
    "        hour=x['Duration_hours'],\n",
    "        min=x['Duration_mins']\n",
    "    ),\n",
    "    axis=1\n",
    ")"
   ]
  },
  {
   "cell_type": "code",
   "execution_count": null,
   "id": "c1d54588-805e-4230-96d0-17149c940f31",
   "metadata": {},
   "outputs": [],
   "source": [
    "data_df['Duration_total_mins']"
   ]
  },
  {
   "cell_type": "markdown",
   "id": "36d6ed9a-4f5f-4ec9-a06c-db09cecdac0c",
   "metadata": {},
   "source": [
    "### Does duration impacts in price or not"
   ]
  },
  {
   "cell_type": "code",
   "execution_count": null,
   "id": "e190031a-564a-4e76-9a9d-ea66c0e20850",
   "metadata": {},
   "outputs": [],
   "source": [
    "sns.scatterplot(x='Duration_total_mins', y='Price', hue='Total_Stops', data=data_df)"
   ]
  },
  {
   "cell_type": "code",
   "execution_count": null,
   "id": "13c32099-2265-433d-bd64-2a023b1275cf",
   "metadata": {},
   "outputs": [],
   "source": [
    "sns.lmplot(x='Duration_total_mins', y='Price', data=data_df)"
   ]
  },
  {
   "cell_type": "code",
   "execution_count": null,
   "id": "46903167-2e56-4099-b9fe-db70549ccac3",
   "metadata": {},
   "outputs": [],
   "source": [
    "# price x airline\n",
    "sns.boxplot(y='Price', x='Airline', data=data_df.sort_values('Price', ascending=False))\n",
    "plt.pyplot.xticks(rotation='vertical')\n",
    "plt.pyplot.show()"
   ]
  },
  {
   "cell_type": "code",
   "execution_count": null,
   "id": "f0519951-20ee-4076-9a6b-11f9863940ee",
   "metadata": {},
   "outputs": [],
   "source": []
  }
 ],
 "metadata": {
  "kernelspec": {
   "display_name": "Python 3 (ipykernel)",
   "language": "python",
   "name": "python3"
  },
  "language_info": {
   "codemirror_mode": {
    "name": "ipython",
    "version": 3
   },
   "file_extension": ".py",
   "mimetype": "text/x-python",
   "name": "python",
   "nbconvert_exporter": "python",
   "pygments_lexer": "ipython3",
   "version": "3.10.9"
  }
 },
 "nbformat": 4,
 "nbformat_minor": 5
}
